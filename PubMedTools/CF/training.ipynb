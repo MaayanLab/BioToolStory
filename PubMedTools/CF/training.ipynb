{
  "nbformat": 4,
  "nbformat_minor": 0,
  "metadata": {
    "colab": {
      "name": "CF_tools.ipynb",
      "provenance": [],
      "collapsed_sections": []
    },
    "kernelspec": {
      "name": "python3",
      "display_name": "Python 3"
    }
  },
  "cells": [
    {
      "cell_type": "code",
      "metadata": {
        "id": "-yFQ4qXD_FHn",
        "colab_type": "code",
        "colab": {}
      },
      "source": [
        "# enable access to Google Drive file system\n",
        "from google.colab import drive\n",
        "drive.mount('/content/drive')"
      ],
      "execution_count": 0,
      "outputs": []
    },
    {
      "cell_type": "code",
      "metadata": {
        "id": "DZlrgysD_MPc",
        "colab_type": "code",
        "colab": {}
      },
      "source": [
        "# clone bert\n",
        "!git clone https://github.com/google-research/bert.git"
      ],
      "execution_count": 0,
      "outputs": []
    },
    {
      "cell_type": "code",
      "metadata": {
        "id": "V_0ppNUj_OA8",
        "colab_type": "code",
        "colab": {}
      },
      "source": [
        "# create directories for bert\n",
        "!mkdir /content/drive/'My Drive'/BERTTOOLS/data\n",
        "!mkdir /content/drive/'My Drive'/BERTTOOLS/bert_output"
      ],
      "execution_count": 0,
      "outputs": []
    },
    {
      "cell_type": "code",
      "metadata": {
        "id": "FS1NEcW9_Pam",
        "colab_type": "code",
        "colab": {}
      },
      "source": [
        "import pandas as pd\n",
        "from sklearn.preprocessing import LabelEncoder\n",
        "from sklearn.model_selection import train_test_split\n",
        "from pandas import DataFrame\n",
        "le = LabelEncoder()"
      ],
      "execution_count": 0,
      "outputs": []
    },
    {
      "cell_type": "code",
      "metadata": {
        "id": "JgML1-wh_RJh",
        "colab_type": "code",
        "colab": {}
      },
      "source": [
        "# read annotated example file\n",
        "df = pd.read_csv(\"/content/drive/My Drive/BERTTOOLS/examples.csv\")"
      ],
      "execution_count": 0,
      "outputs": []
    },
    {
      "cell_type": "code",
      "metadata": {
        "id": "hyk_Wn5K_Sj5",
        "colab_type": "code",
        "colab": {}
      },
      "source": [
        "# Create train and test dataframes\n",
        "df_bert = pd.DataFrame({'index_col':df['PMID'],\n",
        "            'label':le.fit_transform(df['valid_tool']),\n",
        "            'alpha':['a']*df.shape[0],\n",
        "            'text':df['Article.Abstract.AbstractText'].replace(r'\\n',' ',regex=True)})"
      ],
      "execution_count": 0,
      "outputs": []
    },
    {
      "cell_type": "code",
      "metadata": {
        "id": "2SdC8kF2_Ubw",
        "colab_type": "code",
        "colab": {}
      },
      "source": [
        "df_bert_train, df_bert_dev = train_test_split(df_bert, test_size=0.01)"
      ],
      "execution_count": 0,
      "outputs": []
    },
    {
      "cell_type": "code",
      "metadata": {
        "id": "6hhqfclg_WZ4",
        "colab_type": "code",
        "colab": {}
      },
      "source": [
        "# split into train and test\n",
        "df_bert_train, df_test = train_test_split(df_bert, test_size=0.3)"
      ],
      "execution_count": 0,
      "outputs": []
    },
    {
      "cell_type": "code",
      "metadata": {
        "id": "wIU4yX5H_YSC",
        "colab_type": "code",
        "colab": {}
      },
      "source": [
        "# Creating test dataframe\n",
        "df_bert_test = pd.DataFrame({'index_col':df_test['index_col'],\n",
        "                 'text':df_test['text'].replace(r'\\n',' ',regex=True)})"
      ],
      "execution_count": 0,
      "outputs": []
    },
    {
      "cell_type": "code",
      "metadata": {
        "id": "jEQ1rPzy_aLr",
        "colab_type": "code",
        "colab": {}
      },
      "source": [
        "# Saving dataframes to .tsv format as required by BERT\n",
        "df_bert_train.to_csv('/content/drive/My Drive/BERTTOOLS/data/train.tsv', sep='\\t', index=False, header=False)\n",
        "df_bert_test.to_csv('/content/drive/My Drive/BERTTOOLS/data/test.tsv', sep='\\t', index=False, header=True)\n",
        "df.to_csv('/content/drive/My Drive/BERTTOOLS/data/full_data.csv', sep=',', index=False, header=True)\n",
        "df_bert_dev.to_csv('/content/drive/My Drive/BERTTOOLS/data/dev.tsv', sep='\\t', index=False, header=False)"
      ],
      "execution_count": 0,
      "outputs": []
    },
    {
      "cell_type": "code",
      "metadata": {
        "id": "q-3QTv1g_cBT",
        "colab_type": "code",
        "colab": {}
      },
      "source": [
        "# fine tune the model\n",
        "!python3 ./bert/run_classifier.py \\\n",
        "    --task_name=cola \\\n",
        "    --do_train=true \\\n",
        "    --do_eval=true \\\n",
        "    --do_predict=true \\\n",
        "    --do_lower_case=False \\\n",
        "    --data_dir=/content/drive/'My Drive'/BERTTOOLS/data \\\n",
        "    --vocab_file=/content/drive/'My Drive'/BERTTOOLS/biobert/vocab.txt \\\n",
        "    --bert_config_file=/content/drive/'My Drive'/BERTTOOLS/biobert/bert_config.json \\\n",
        "    --init_checkpoint=/content/drive/'My Drive'/BERTTOOLS/biobert/model.ckpt-1000000 \\\n",
        "    --max_seq_length=128 \\\n",
        "    --train_batch_size=32 \\\n",
        "    --learning_rate=2e-5 \\\n",
        "    --num_train_epochs=3.0 \\\n",
        "    --output_dir=/content/drive/'My Drive'/BERTTOOLS/bert_output"
      ],
      "execution_count": 0,
      "outputs": []
    },
    {
      "cell_type": "code",
      "metadata": {
        "id": "ijsWDu1A_d5X",
        "colab_type": "code",
        "colab": {}
      },
      "source": [
        "df_results = pd.read_csv(\"/content/drive/My Drive/BERTTOOLS/bert_output/test_results.tsv\",sep=\"\\t\",header=None)"
      ],
      "execution_count": 0,
      "outputs": []
    },
    {
      "cell_type": "code",
      "metadata": {
        "id": "vWvvwnqJ_hcR",
        "colab_type": "code",
        "colab": {}
      },
      "source": [
        "df_results_csv = pd.DataFrame({'index_col':df_test['index_col'].tolist(),\n",
        "                               'Is_Response':df_results.idxmax(axis=1)})"
      ],
      "execution_count": 0,
      "outputs": []
    },
    {
      "cell_type": "code",
      "metadata": {
        "id": "V_7oi0oI_jLC",
        "colab_type": "code",
        "colab": {}
      },
      "source": [
        "x = pd.merge(df_test, df_results_csv, on='index_col')"
      ],
      "execution_count": 0,
      "outputs": []
    },
    {
      "cell_type": "code",
      "metadata": {
        "id": "mfdiUgF3_klC",
        "colab_type": "code",
        "colab": {}
      },
      "source": [
        "\"\"\"** Precision Recall **\"\"\"\n",
        "from sklearn.metrics import classification_report, confusion_matrix, accuracy_score\n",
        "y_test = x['label'].tolist()\n",
        "y_pred = x['Is_Response'].tolist()\n",
        "print(confusion_matrix(y_test,y_pred))\n",
        "print(classification_report(y_test,y_pred))\n",
        "print(accuracy_score(y_test, y_pred))\n",
        "# weights are saved at /content/drive/'My Drive'/BERTTOOLS/bert_output"
      ],
      "execution_count": 0,
      "outputs": []
    }
  ]
}
